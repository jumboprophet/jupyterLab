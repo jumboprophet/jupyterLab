{
 "cells": [
  {
   "cell_type": "code",
   "execution_count": 3,
   "id": "87647cfa-dd47-4104-9c02-eab77056f378",
   "metadata": {},
   "outputs": [
    {
     "name": "stdout",
     "output_type": "stream",
     "text": [
      "Hello Tom Bell, your customer class is Bronze. Thank you for your support.\n",
      "Hello Maggie Johnson, your customer class is Silver. Thank you for your support.\n",
      "Hello John Spectre, your customer class is Gold. Thank you for your support.\n",
      "Hello Susy Simmons, your customer class is Platinum. Thank you for your support.\n"
     ]
    }
   ],
   "source": [
    "# -*- coding: utf-8 -*-\n",
    "\"\"\"Refresher activity.\n",
    "\n",
    "This script will use variables, conditionals, lists, dicts, and functions\n",
    "to print out different greetings for customers based on their\n",
    "business tier (determined by revenue).\n",
    "\"\"\"\n",
    "\n",
    "# List of dicts\n",
    "customers = [\n",
    "    { \"first_name\": \"Tom\", \"last_name\": \"Bell\", \"revenue\": 0 },\n",
    "    { \"first_name\": \"Maggie\", \"last_name\": \"Johnson\", \"revenue\": 1032 },\n",
    "    { \"first_name\": \"John\", \"last_name\": \"Spectre\", \"revenue\": 2543 },\n",
    "    { \"first_name\": \"Susy\", \"last_name\": \"Simmons\", \"revenue\": 5322 }\n",
    "]\n",
    "\n",
    "# @TODO Define a function that accepts a customer first_name, last_name, and\n",
    "# revenue and returns a custom greeting with the full name.\n",
    "# Use these ranges to determine the business tier (and corresponding message)\n",
    "# for each customer.\n",
    "#   Platinum = 3001+\n",
    "#   Gold = 2001-3000\n",
    "#   Silver = 1001-2000\n",
    "#   Bronze = 0-1000\n",
    "def create_greeting(first_name, last_name, revenue):\n",
    "    # @TODO: YOUR CODE HERE!\n",
    "    if (revenue>3000):\n",
    "        biz_tier = \"Platinum\"\n",
    "    elif (revenue >2000 and revenue<=3000):\n",
    "        biz_tier = \"Gold\"\n",
    "    elif (revenue>1000 and revenue<=2000):\n",
    "        biz_tier = \"Silver\"\n",
    "    else:\n",
    "        biz_tier = \"Bronze\"\n",
    "    greeting = f\"Hello {first_name} {last_name}, your customer class is {biz_tier}. Thank you for your support.\"\n",
    "    return greeting\n",
    "\n",
    "# @TODO: Loop through the list of customers and use your function to print\n",
    "for cust in customers:\n",
    "    print(create_greeting(cust[\"first_name\"], cust[\"last_name\"], cust[\"revenue\"]))\n",
    "# custom greetings for each customer.\n",
    "    \n",
    "# @TODO: YOUR CODE HERE!\n"
   ]
  },
  {
   "cell_type": "code",
   "execution_count": null,
   "id": "c87f7a90-2417-4528-9f49-cb56283df1e4",
   "metadata": {},
   "outputs": [],
   "source": []
  }
 ],
 "metadata": {
  "kernelspec": {
   "display_name": "Python 3",
   "language": "python",
   "name": "python3"
  },
  "language_info": {
   "codemirror_mode": {
    "name": "ipython",
    "version": 3
   },
   "file_extension": ".py",
   "mimetype": "text/x-python",
   "name": "python",
   "nbconvert_exporter": "python",
   "pygments_lexer": "ipython3",
   "version": "3.6.8"
  }
 },
 "nbformat": 4,
 "nbformat_minor": 5
}
