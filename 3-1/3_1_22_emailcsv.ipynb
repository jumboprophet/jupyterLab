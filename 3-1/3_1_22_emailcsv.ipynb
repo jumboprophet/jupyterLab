{
 "cells": [
  {
   "cell_type": "code",
   "execution_count": 16,
   "id": "5e86aa4f-6e23-40b1-ae73-4f5a2e54ebdd",
   "metadata": {},
   "outputs": [],
   "source": [
    "from pathlib import Path\n",
    "import csv\n",
    "\n",
    "csvpath = Path('./resource/employees.csv')\n",
    "newpath = Path('./resource/new_employees.csv')\n",
    "\n",
    "new_list = []\n",
    "\n",
    "with open(csvpath, 'r', newline = '') as csvfile:\n",
    "    csvreader = csv.reader(csvfile, delimiter = ',')\n",
    "    \n",
    "    header = next(csvreader)\n",
    "    header.append('Email Address')\n",
    "    # print(header)\n",
    "    \n",
    "    new_list.append(header)\n",
    "    \n",
    "    for row in csvreader:\n",
    "        row.append(f\"{row[0].lower()}.{row[1].lower()}@example.com\")\n",
    "        # print(row)\n",
    "        new_list.append(row)\n",
    "\n",
    "with open(newpath, 'w', newline = '') as newfile:\n",
    "    csvwriter = csv.writer(newfile, delimiter = ',')\n",
    "    csvwriter.writerows(new_list)\n",
    "   "
   ]
  },
  {
   "cell_type": "code",
   "execution_count": null,
   "id": "9477074f-5ece-4533-aa99-aeb06b35def1",
   "metadata": {},
   "outputs": [],
   "source": []
  }
 ],
 "metadata": {
  "kernelspec": {
   "display_name": "Python 3",
   "language": "python",
   "name": "python3"
  },
  "language_info": {
   "codemirror_mode": {
    "name": "ipython",
    "version": 3
   },
   "file_extension": ".py",
   "mimetype": "text/x-python",
   "name": "python",
   "nbconvert_exporter": "python",
   "pygments_lexer": "ipython3",
   "version": "3.6.8"
  }
 },
 "nbformat": 4,
 "nbformat_minor": 5
}
