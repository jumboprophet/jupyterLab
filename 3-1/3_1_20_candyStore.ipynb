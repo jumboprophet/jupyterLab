{
 "cells": [
  {
   "cell_type": "code",
   "execution_count": 9,
   "id": "7e35c973-a00e-4ffe-8e45-b9df877ee5bb",
   "metadata": {},
   "outputs": [
    {
     "name": "stdout",
     "output_type": "stream",
     "text": [
      "[0]   Snickers\n",
      "[1]   Kit Kat\n",
      "[2]   Sour Patch Kids\n",
      "[3]   Juicy Fruit\n",
      "[4]   Swedish Fish\n",
      "[5]   Skittles\n",
      "[6]   Hershey Bar\n",
      "[7]   Starbursts\n",
      "[8]   M&Ms\n"
     ]
    },
    {
     "name": "stdin",
     "output_type": "stream",
     "text": [
      "please choose an index number to put candy into cart:  4\n",
      "please choose an index number to put candy into cart:  3\n",
      "please choose an index number to put candy into cart:  2\n",
      "please choose an index number to put candy into cart:  1\n",
      "please choose an index number to put candy into cart:  0\n"
     ]
    },
    {
     "name": "stdout",
     "output_type": "stream",
     "text": [
      "['Swedish Fish', 'Juicy Fruit', 'Sour Patch Kids', 'Kit Kat', 'Snickers']\n"
     ]
    }
   ],
   "source": [
    "# The list of candies to print to the screen\n",
    "candy_list = [\n",
    "    \"Snickers\",\n",
    "    \"Kit Kat\",\n",
    "    \"Sour Patch Kids\",\n",
    "    \"Juicy Fruit\",\n",
    "    \"Swedish Fish\",\n",
    "    \"Skittles\",\n",
    "    \"Hershey Bar\",\n",
    "    \"Starbursts\",\n",
    "    \"M&Ms\"\n",
    "]\n",
    "\n",
    "candy_dict = {}\n",
    "\n",
    "# The amount of candy the user will be allowed to choose\n",
    "allowance = 5\n",
    "\n",
    "# The list used to store all of the candies selected inside of\n",
    "candy_cart = []\n",
    "\n",
    "# Print all of the candies to the screen and their index in brackets\n",
    "count = 0\n",
    "for candy in candy_list:\n",
    "    print(f\"[{count}]   {candy}\")\n",
    "    \n",
    "    candy_dict[count] = candy\n",
    "    \n",
    "    count += 1 \n",
    "\n",
    "# Run through a loop which allows the user to choose which candies to take home with them\n",
    "for i in range(allowance):\n",
    "    choice = int(input(\"please choose an index number to put candy into cart: \"))\n",
    "    # Add the candy at the index chosen to the candy_cart list\n",
    "    candy_cart.append(candy_dict[choice])\n",
    "    \n",
    "# Loop through the candy_cart to say what candies were brought home\n",
    "print(candy_cart)"
   ]
  },
  {
   "cell_type": "code",
   "execution_count": null,
   "id": "a50d5e86-51ae-4deb-99f4-1a390ce041b1",
   "metadata": {},
   "outputs": [],
   "source": []
  }
 ],
 "metadata": {
  "kernelspec": {
   "display_name": "Python 3",
   "language": "python",
   "name": "python3"
  },
  "language_info": {
   "codemirror_mode": {
    "name": "ipython",
    "version": 3
   },
   "file_extension": ".py",
   "mimetype": "text/x-python",
   "name": "python",
   "nbconvert_exporter": "python",
   "pygments_lexer": "ipython3",
   "version": "3.6.8"
  }
 },
 "nbformat": 4,
 "nbformat_minor": 5
}
