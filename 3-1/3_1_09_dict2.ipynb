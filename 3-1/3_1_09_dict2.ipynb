{
 "cells": [
  {
   "cell_type": "code",
   "execution_count": 8,
   "id": "fe4376d9-2ceb-436c-a4bf-db03cbb7a020",
   "metadata": {},
   "outputs": [
    {
     "ename": "SyntaxError",
     "evalue": "invalid syntax (<ipython-input-8-9ca5683580de>, line 2)",
     "output_type": "error",
     "traceback": [
      "\u001b[0;36m  File \u001b[0;32m\"<ipython-input-8-9ca5683580de>\"\u001b[0;36m, line \u001b[0;32m2\u001b[0m\n\u001b[0;31m    from resource/shows import shows\u001b[0m\n\u001b[0m                 ^\u001b[0m\n\u001b[0;31mSyntaxError\u001b[0m\u001b[0;31m:\u001b[0m invalid syntax\n"
     ]
    }
   ],
   "source": [
    "# Use the `from` keyword to import the `shows` dictionary from the `show_data.py` file\n",
    "from resource/shows import shows \n",
    "\n",
    "\n",
    "# QUESTION 1: Who is the actor that plays Squidward in Spongebob (kids)?\n",
    "print(shows['genre']['kids']['Spongebob']['cast'][3]['actor'])\n",
    "\n",
    "# QUESTION 2: Patrick Warburton plays Joe Swanson in Family Guy (comedy). What is the link to his imdb page?\n",
    "\n",
    "\n",
    "# QUESTION 3: Is the Walking Dead still running?\n",
    "\n",
    "\n",
    "# QUESTION 4: Who plays Dexter in Dexter (drama) and who plays Dexter in Dexter's Lab (kids)?\n",
    "# HINT: You can print multiple items at once by using a comma like this: print(thing1, thing2)\n",
    "\n",
    "\n",
    "# QUESTION 5: Who are the creators of Stranger Things (drama)?\n",
    "\n",
    "\n",
    "# QUESTION 6: Who hosts the Daily Show (talk)?\n",
    "\n",
    "\n",
    "# QUESTION 7: Who are all the hosts of the view (talk)\n",
    "# Hint: You will need to use a loop for this one. You may not simply log the entire list, but must log each name individually\n",
    "\n",
    "\n",
    "# QUESTION 8: What are the show names of the Impractical Jokers (comedy)\n",
    "# Hint: You will need to use a loop for this one. You may not simply log the entire list, but must log each name individually\n",
    "\n",
    "\n",
    "# QUESTION 9: Who does Will Arnett play in Arrested Development (comedy)\n",
    "\n",
    "\n",
    "# QUESTION 10: Who plays Yami Yugi in Yu-Gi-Oh (kids)?\n",
    "\n",
    "\n",
    "# QUESTION 11: How many seasons did the Office (comedy) run?\n",
    "\n",
    "\n",
    "# QUESTION 12: Who are the main characters of the Office (comedy) (not the actors, but the actual character names)?\n",
    "\n",
    "\n",
    "# QUESTION 13: List the characters in Teen Titans (kids)\n",
    "\n",
    "\n",
    "# QUESTION 14: What is the link to the IMDB page for the actor who plays Mr. Krabs (Spongebob, kids)?\n",
    "\n",
    "\n",
    "# QUESTION 15: Who plays Negan in The Walking Dead?\n",
    "\n",
    "\n",
    "# QUESTION 16: List the main cast of Dexter (drama) (the actors, not the characters)\n",
    "\n",
    "\n",
    "# QUESTION 17: Is Game of Thrones(drama) still running?\n",
    "\n",
    "\n",
    "# QUESTION 18: Who does Peter Dinklage play in Game of Thrones (drama)?\n",
    "\n",
    "\n",
    "# QUESTION 19: List the American Idol Judges\n",
    "\n",
    "\n",
    "# QUESTION 20: Who plays Dustin in Stanger Things (drama)?\n",
    "\n"
   ]
  },
  {
   "cell_type": "code",
   "execution_count": null,
   "id": "340e77ff-2d4b-432b-ba0c-d205cd3e361e",
   "metadata": {},
   "outputs": [],
   "source": []
  }
 ],
 "metadata": {
  "kernelspec": {
   "display_name": "Python 3",
   "language": "python",
   "name": "python3"
  },
  "language_info": {
   "codemirror_mode": {
    "name": "ipython",
    "version": 3
   },
   "file_extension": ".py",
   "mimetype": "text/x-python",
   "name": "python",
   "nbconvert_exporter": "python",
   "pygments_lexer": "ipython3",
   "version": "3.6.8"
  }
 },
 "nbformat": 4,
 "nbformat_minor": 5
}
