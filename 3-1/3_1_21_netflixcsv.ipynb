{
 "cells": [
  {
   "cell_type": "code",
   "execution_count": 11,
   "id": "ea3a7ed8-6f81-47de-ac05-3caa7798ad53",
   "metadata": {},
   "outputs": [
    {
     "name": "stdin",
     "output_type": "stream",
     "text": [
      "Please enter the video you are looking for:  White Girl\n"
     ]
    },
    {
     "name": "stdout",
     "output_type": "stream",
     "text": [
      "Title: White Girl   Rating: UR   User score: NA\n"
     ]
    }
   ],
   "source": [
    "# Modules\n",
    "from pathlib import Path\n",
    "import csv\n",
    "\n",
    "# Prompt user for video lookup\n",
    "user_selection = input(\"Please enter the video you are looking for: \")\n",
    "\n",
    "# Set path for CSV file\n",
    "csvpath = Path('./resource/netflix_ratings.csv')\n",
    "\n",
    "# Open the file and loop through to search for the video\n",
    "with open (csvpath,'r') as csvfile:\n",
    "    csvreader = csv.reader(csvfile,delimiter = ',')\n",
    "    \n",
    "    header = next(csvreader)\n",
    "    # print(header)\n",
    "    \n",
    "    count = 0\n",
    "    for row in csvreader:\n",
    "        if row[0] == user_selection:\n",
    "            print(f\"Title: {row[0]}   Rating: {row[1]}   User score: {row[5]}\")\n",
    "            count += 1\n",
    "            \n",
    "    if count == 0:\n",
    "        print(\"No such a video is found!\")\n",
    "# If video is found, print title, rating, and user ratings. \n",
    "# If the video is never found, alert the user\n"
   ]
  },
  {
   "cell_type": "code",
   "execution_count": null,
   "id": "55586fff-5b70-4f5d-b1df-a0b18157d016",
   "metadata": {},
   "outputs": [],
   "source": []
  }
 ],
 "metadata": {
  "kernelspec": {
   "display_name": "Python 3",
   "language": "python",
   "name": "python3"
  },
  "language_info": {
   "codemirror_mode": {
    "name": "ipython",
    "version": 3
   },
   "file_extension": ".py",
   "mimetype": "text/x-python",
   "name": "python",
   "nbconvert_exporter": "python",
   "pygments_lexer": "ipython3",
   "version": "3.6.8"
  }
 },
 "nbformat": 4,
 "nbformat_minor": 5
}
