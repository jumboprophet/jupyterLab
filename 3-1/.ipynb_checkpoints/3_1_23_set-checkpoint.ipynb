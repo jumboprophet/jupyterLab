{
 "cells": [
  {
   "cell_type": "code",
   "execution_count": 18,
   "id": "a62a6816-765d-4106-9eed-eeefd7136739",
   "metadata": {},
   "outputs": [
    {
     "name": "stdout",
     "output_type": "stream",
     "text": [
      "(1, 2, 3, 4, 5, 6, 7, 8, 9)\n",
      "{1, 2, 3, 4, 5, 6, 7, 8, 9}\n",
      "1\n",
      "2\n",
      "3\n",
      "4\n",
      "5\n",
      "6\n",
      "7\n",
      "8\n",
      "9\n",
      "type of a: <class 'set'>\n",
      "Union: {0, 1, 2, 3, 4, 5, 6, 7, 8, 9, 12, 14, 23}\n",
      "Intersection: {4, 5}\n",
      "difference: {1, 2, 3, 6, 7, 8, 9}\n",
      "symmetric difference: {0, 1, 2, 3, 6, 7, 8, 9, 12, 14, 23}\n"
     ]
    }
   ],
   "source": [
    "a = {1,2,3,4,5,6,7,8,9,}\n",
    "b = {0,5,12,14,23,4}\n",
    "\n",
    "# Sets can be print straght\n",
    "print(a)\n",
    "\n",
    "# Sets can be turned into other types like tuple or list, but not dictionary.\n",
    "new_a = tuple(a)\n",
    "print(new_a)\n",
    "\n",
    "# Sets can be iterable\n",
    "for item in a:\n",
    "    print(item)\n",
    "\n",
    "# Sets can do operations with other sets\n",
    "# Operations such as:\n",
    "# union '|'\n",
    "# intersection '&'\n",
    "# difference '-'\n",
    "# symmetric difference '^'\n",
    "print(f\"type of a: {type(a)}\")\n",
    "print(f\"Union: {a | b}\")\n",
    "print(f\"Intersection: {a & b}\")\n",
    "print(f\"difference: {a - b}\")\n",
    "print(f\"symmetric difference: {a ^ b}\")"
   ]
  },
  {
   "cell_type": "code",
   "execution_count": null,
   "id": "394350bb-1c38-4d6e-98e1-7c204a2235d4",
   "metadata": {},
   "outputs": [],
   "source": []
  }
 ],
 "metadata": {
  "kernelspec": {
   "display_name": "Python 3",
   "language": "python",
   "name": "python3"
  },
  "language_info": {
   "codemirror_mode": {
    "name": "ipython",
    "version": 3
   },
   "file_extension": ".py",
   "mimetype": "text/x-python",
   "name": "python",
   "nbconvert_exporter": "python",
   "pygments_lexer": "ipython3",
   "version": "3.6.8"
  }
 },
 "nbformat": 4,
 "nbformat_minor": 5
}
