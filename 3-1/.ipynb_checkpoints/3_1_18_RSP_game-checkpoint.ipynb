{
 "cells": [
  {
   "cell_type": "code",
   "execution_count": 24,
   "id": "7ab0eed6-8d16-4b26-8613-f1cd28227820",
   "metadata": {},
   "outputs": [
    {
     "name": "stdout",
     "output_type": "stream",
     "text": [
      "wrong choice\n"
     ]
    }
   ],
   "source": [
    "import random\n",
    "\n",
    "def rsp_game(choice):\n",
    "    choice_list = ['r','s','p']\n",
    "    if choice == 'r':\n",
    "        com_choice = random.choice(choice_list)\n",
    "        if com_choice == 'r':\n",
    "            print(\"draw\")\n",
    "        elif com_choice == 's':\n",
    "            print(\"win\")\n",
    "        else:\n",
    "            print(\"lose\")\n",
    "    elif choice == 's':\n",
    "        com_choice = random.choice(choice_list)\n",
    "        if com_choice == 'r':\n",
    "            print(\"lose\")\n",
    "        elif com_choice == 's':\n",
    "            print(\"draw\")\n",
    "        else:\n",
    "            print(\"win\")\n",
    "    elif choice == 'p':\n",
    "        com_choice = random.choice(choice_list)\n",
    "        if com_choice == 'r':\n",
    "            print(\"win\")\n",
    "        elif com_choice == 's':\n",
    "            print(\"lose\")\n",
    "        else:\n",
    "            print(\"draw\")\n",
    "    else:\n",
    "        print(\"wrong selection\")\n",
    "\n",
    "rsp_game('k')"
   ]
  },
  {
   "cell_type": "code",
   "execution_count": null,
   "id": "877a8295-172e-4c23-ae8d-62ed2dfaa537",
   "metadata": {},
   "outputs": [],
   "source": []
  },
  {
   "cell_type": "code",
   "execution_count": null,
   "id": "d975d17f-c6cf-47db-b19f-67ea1a347900",
   "metadata": {},
   "outputs": [],
   "source": []
  }
 ],
 "metadata": {
  "kernelspec": {
   "display_name": "Python 3",
   "language": "python",
   "name": "python3"
  },
  "language_info": {
   "codemirror_mode": {
    "name": "ipython",
    "version": 3
   },
   "file_extension": ".py",
   "mimetype": "text/x-python",
   "name": "python",
   "nbconvert_exporter": "python",
   "pygments_lexer": "ipython3",
   "version": "3.6.8"
  }
 },
 "nbformat": 4,
 "nbformat_minor": 5
}
