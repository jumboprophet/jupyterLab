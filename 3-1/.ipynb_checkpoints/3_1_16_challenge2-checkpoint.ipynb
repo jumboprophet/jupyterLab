{
 "cells": [
  {
   "cell_type": "code",
   "execution_count": 7,
   "id": "a6afa22f-1a70-4e6b-9e92-ad9e257650e3",
   "metadata": {},
   "outputs": [
    {
     "name": "stdin",
     "output_type": "stream",
     "text": [
      "Input your password:  kk\n"
     ]
    },
    {
     "name": "stdout",
     "output_type": "stream",
     "text": [
      "Your password is of average strength\n"
     ]
    }
   ],
   "source": [
    "# Import the `string` library.\n",
    "import string\n",
    "\n",
    "# Use the `string` library to initialize string variables representing all valid letters and digits, respectively.\n",
    "letters = string.ascii_letters\n",
    "digits = string.digits\n",
    "\n",
    "# Define a function called `check_strength` that takes in a string parameter called `password`.\n",
    "def check_strength(password):\n",
    "\n",
    "    # Create two boolean variables called `contains_number` and `contains_letter`. Set them to False.\n",
    "    contains_number = False\n",
    "    contains_letter = False\n",
    "\n",
    "    # Initialize a `count` variable and set it to 0.\n",
    "    count = 0\n",
    "\n",
    "    # Loop through each character in the `password` and increment the `count` variable by 1 for each character.\n",
    "    for char in password:\n",
    "        count += 1\n",
    "\n",
    "        # Create an if-else statement that loops through each character in `password` and updates `contains_number` or `contains_letter` to True.\n",
    "        if char in letters:\n",
    "            contains_letter = True\n",
    "        elif char in digits:\n",
    "            contains_number = True\n",
    "\n",
    "    # If `password` contains equal to or fewer than 6 characters and consists only of numbers, print \"Your password is too weak.\"\n",
    "    # Else if `password` contains more than 6 characters and consists of at least one number and at least one letter, print \"Your password is a strong password\".\n",
    "    # Else, print \"Your password is of average strength.\"\n",
    "    if count <= 6 and contains_number == True and contains_letter == False:\n",
    "        print(\"Your password is too weak\")\n",
    "    elif count > 6 and contains_letter == True and contains_letter == True:\n",
    "        print(\"Your password is strong\")\n",
    "    else:\n",
    "        print(\"Your password is of average strength\")\n",
    "\n",
    "# Declare a variable as `user_input_password` with an input stating \"Input your password: \".\n",
    "user_input_password = input(\"Input your password: \")\n",
    "\n",
    "# Call the check_strength function with the `user_input_password`.\n",
    "check_strength(user_input_password)"
   ]
  },
  {
   "cell_type": "code",
   "execution_count": null,
   "id": "a24eb91c-f9bb-48a7-9485-ee5b82c20c17",
   "metadata": {},
   "outputs": [],
   "source": []
  }
 ],
 "metadata": {
  "kernelspec": {
   "display_name": "Python 3",
   "language": "python",
   "name": "python3"
  },
  "language_info": {
   "codemirror_mode": {
    "name": "ipython",
    "version": 3
   },
   "file_extension": ".py",
   "mimetype": "text/x-python",
   "name": "python",
   "nbconvert_exporter": "python",
   "pygments_lexer": "ipython3",
   "version": "3.6.8"
  }
 },
 "nbformat": 4,
 "nbformat_minor": 5
}
