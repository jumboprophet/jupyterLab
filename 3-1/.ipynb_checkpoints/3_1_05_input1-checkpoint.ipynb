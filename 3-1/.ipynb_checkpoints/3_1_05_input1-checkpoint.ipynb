{
 "cells": [
  {
   "cell_type": "code",
   "execution_count": 7,
   "id": "362cdbb9-115a-44c3-b8c1-ec765d333bfa",
   "metadata": {},
   "outputs": [
    {
     "name": "stdin",
     "output_type": "stream",
     "text": [
      "Welcome to the sandwich shop, what do I call you? ck\n"
     ]
    },
    {
     "name": "stdout",
     "output_type": "stream",
     "text": [
      "Hello ck.\n"
     ]
    },
    {
     "name": "stdin",
     "output_type": "stream",
     "text": [
      "Are you here for a sandwich? (Yes or No?) Yes\n",
      "What kind of sandwich would you like? hotdog\n"
     ]
    },
    {
     "name": "stdout",
     "output_type": "stream",
     "text": [
      "Please wait 10 min for your hotdog.\n"
     ]
    }
   ],
   "source": [
    "# Declare a variable `welcome_name` as an input with a string of \"Welcome to the sandwich shop, what do I call you? \".\n",
    "welcome_name = input(\"Welcome to the sandwich shop, what do I call you?\")\n",
    "\n",
    "# Then print the string \"Hello\" concatenated with the variable `welcome_name`.\n",
    "print(f\"Hello {welcome_name}.\")\n",
    "\n",
    "# Declare a variable `question_sandwich` as an input with a string of \"Are you here for a sandwich? (Yes or No?) \".\n",
    "is_sandwich = input(\"Are you here for a sandwich? (Yes or No?)\")\n",
    "\n",
    "# If `question_sandwich` is equal to true declare a variable `food_prompt` as an input with a string of \"What kind of sandwich would you like?\".\n",
    "if is_sandwich == \"Yes\":\n",
    "    food_prompt = input(\"What kind of sandwich would you like?\")\n",
    "    \n",
    "    # Then print a string of \"Please wait 10 min for your \" concatenated with the variable `food_prompt`.\n",
    "    print(f\"Please wait 10 min for your {food_prompt}.\")\n",
    "# Else If `question_sandwich` is false, print a string of \"If you don't want a sandwich what are you here for?!\".\n",
    "elif is_sandwich == \"No\":\n",
    "    print(\"If you don't want a sandwich what are you here for?!\")\n",
    "\n",
    "    #Else print a string of \"You did not write Yes or No!\"\n",
    "else:\n",
    "    print(\"You did not write Yes or No!\")"
   ]
  },
  {
   "cell_type": "code",
   "execution_count": null,
   "id": "ea647b25-67b8-4b25-a43e-cae7629a3479",
   "metadata": {},
   "outputs": [],
   "source": []
  }
 ],
 "metadata": {
  "kernelspec": {
   "display_name": "Python 3",
   "language": "python",
   "name": "python3"
  },
  "language_info": {
   "codemirror_mode": {
    "name": "ipython",
    "version": 3
   },
   "file_extension": ".py",
   "mimetype": "text/x-python",
   "name": "python",
   "nbconvert_exporter": "python",
   "pygments_lexer": "ipython3",
   "version": "3.6.8"
  }
 },
 "nbformat": 4,
 "nbformat_minor": 5
}
