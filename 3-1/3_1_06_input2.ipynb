{
 "cells": [
  {
   "cell_type": "code",
   "execution_count": 13,
   "id": "9ec2bdac-27bd-4e67-84ed-ed6a0920899e",
   "metadata": {},
   "outputs": [
    {
     "name": "stdin",
     "output_type": "stream",
     "text": [
      "Welcome to the boba shop! What is your name? k\n"
     ]
    },
    {
     "name": "stdout",
     "output_type": "stream",
     "text": [
      "Hello k.\n"
     ]
    },
    {
     "name": "stdin",
     "output_type": "stream",
     "text": [
      "What kind of boba drink would you like? k\n",
      "How sweet do you want your drink: 0, 50, 100, or 200? 100\n"
     ]
    },
    {
     "name": "stdout",
     "output_type": "stream",
     "text": [
      "normal sweet\n",
      "Your order of k, boba with a sweet level of normal sweet.\n"
     ]
    }
   ],
   "source": [
    "# Declare a variable of `name` with an input and a string of \"Welcome to the Boba Shop! What is your name?\".\n",
    "name = input(\"Welcome to the boba shop! What is your name?\")\n",
    "\n",
    "# Check if `name` is not an empty string or equal to `None`.\n",
    "if name != \"\" or name == None:\n",
    "    # If so, write a print statement with a string of \"Hello\" concatenated with the variable `name`.\n",
    "    print(f\"Hello {name}.\")\n",
    "\n",
    "    # Then, declare a variable of `beverage` with an input and a string of \"What kind of boba drink would you like?\".\n",
    "    beverage = input(\"What kind of boba drink would you like?\")\n",
    "\n",
    "    # Then, Declare a variable of `sweetness_level` with an input and a string of \"How sweet do you want your drink: 0, 50, 100, or 200?\".\n",
    "    sweetness_level = int(input(\"How sweet do you want your drink: 0, 50, 100, or 200?\"))\n",
    "\n",
    "    # If `sweetness` equals 50 print \"half sweetened\".\n",
    "    if sweetness_level == 50:\n",
    "        sweet = \"half sweetend\"\n",
    "        print(sweet)\n",
    "    # Else if `sweetness` 100 print \"normal sweet\".\n",
    "    elif sweetness_level == 100:\n",
    "        sweet = \"normal sweet\"\n",
    "        print(sweet)\n",
    "    # Else if `sweetness` 200 print \"super sweet\".\n",
    "    elif sweetness_level == 200:\n",
    "        sweet = \"super sweet\"\n",
    "        print(sweet)\n",
    "    # Else print with a string of \"non-sweet\".\n",
    "    else:\n",
    "        sweet = \"non-sweet\"\n",
    "        print(sweet)\n",
    "\n",
    "    # Then print the string of \"Your order of \" concatenated with the variable `beverage`, concatenated with \" boba with a sweet level of \", concatenated with the variable `sweetness`\n",
    "    print(f\"Your order of {beverage}, boba with a sweet level of {sweet}.\")\n",
    "# Else, print the string of \"You didn't give us your name! Goodbye\"\n",
    "else:\n",
    "    print(\"You didn't give us your name! Goodbye!\")\n",
    "          \n",
    "\n"
   ]
  },
  {
   "cell_type": "code",
   "execution_count": null,
   "id": "31c9db62-1c97-47d0-bbee-f748916484dd",
   "metadata": {},
   "outputs": [],
   "source": []
  },
  {
   "cell_type": "code",
   "execution_count": null,
   "id": "38d4dbc1-f9cf-4e92-ab5b-07970e738858",
   "metadata": {},
   "outputs": [],
   "source": []
  }
 ],
 "metadata": {
  "kernelspec": {
   "display_name": "Python 3",
   "language": "python",
   "name": "python3"
  },
  "language_info": {
   "codemirror_mode": {
    "name": "ipython",
    "version": 3
   },
   "file_extension": ".py",
   "mimetype": "text/x-python",
   "name": "python",
   "nbconvert_exporter": "python",
   "pygments_lexer": "ipython3",
   "version": "3.6.8"
  }
 },
 "nbformat": 4,
 "nbformat_minor": 5
}
