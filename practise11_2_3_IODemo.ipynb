{
 "cells": [
  {
   "cell_type": "code",
   "execution_count": 8,
   "id": "d73acf43-e0dc-4f77-a18b-ba7a5bd15a77",
   "metadata": {},
   "outputs": [
    {
     "name": "stdout",
     "output_type": "stream",
     "text": [
      "/Users/Jumboprophet/jupyterLab\n"
     ]
    }
   ],
   "source": [
    "from pathlib import Path as pa\n",
    "\n",
    "# Current Working Directory\n",
    "print(pa.cwd())"
   ]
  },
  {
   "cell_type": "code",
   "execution_count": 9,
   "id": "935307a1-dcb4-4b4c-a38b-504ff4d02cab",
   "metadata": {},
   "outputs": [
    {
     "name": "stdout",
     "output_type": "stream",
     "text": [
      "/Users/Jumboprophet/jupyterLab\n"
     ]
    }
   ],
   "source": [
    "print(pa.cwd())"
   ]
  },
  {
   "cell_type": "code",
   "execution_count": 20,
   "id": "7a72af99-eb03-4303-9f2d-875cf7b9cbc5",
   "metadata": {},
   "outputs": [
    {
     "name": "stdout",
     "output_type": "stream",
     "text": [
      "#1: Michael Jordan\n",
      "#2: Kobe Bryant\n",
      "#3: Steve Nash\n",
      "#4: Chris Paul\n"
     ]
    }
   ],
   "source": [
    "'''\n",
    "file = pa(\"io_demo.txt\")\n",
    "\n",
    "with open(file,'r') as file_object:\n",
    "    \n",
    "    # read all the content of this file\n",
    "    # text = file_object.read()\n",
    "    # print(text)\n",
    "    \n",
    "    # read every line each time by for loop\n",
    "    line_num = 1\n",
    "    for line in file_object:\n",
    "        # print()function will enforce \\n at the end\n",
    "        # if NOT, print(x,end=\"\")represents no \\n at the end.\n",
    "        print(f\"#{line_num}: {line}\", end=\"\")\n",
    "        line_num += 1\n",
    "'''"
   ]
  },
  {
   "cell_type": "code",
   "execution_count": 26,
   "id": "88c6a880-f47e-45f6-a7bc-014d6bf26856",
   "metadata": {},
   "outputs": [
    {
     "name": "stdout",
     "output_type": "stream",
     "text": [
      "Michael Jordan\n",
      "Kobe Bryant\n",
      "Steve Nash\n",
      "Chris Paul\n",
      "Lebron James\n"
     ]
    }
   ],
   "source": [
    "from pathlib import *\n",
    "\n",
    "file = Path(\"io_demo.txt\")\n",
    "\n",
    "with open(file,'r') as file_object:\n",
    "    content = file_object.read()\n",
    "    print(content,end=\"\")"
   ]
  },
  {
   "cell_type": "code",
   "execution_count": 25,
   "id": "7b5196dc-ff48-4515-9014-06d6daca4623",
   "metadata": {},
   "outputs": [
    {
     "name": "stdout",
     "output_type": "stream",
     "text": [
      "#1: Michael Jordan\n",
      "#1: Kobe Bryant\n",
      "#1: Steve Nash\n",
      "#1: Chris Paul\n",
      "#1: Lebron James\n"
     ]
    }
   ],
   "source": [
    "with open(file) as file_object:\n",
    "    line_num = 1\n",
    "    for line in file_object:\n",
    "        print(f\"#{line_num}: {line}\",end=\"\")"
   ]
  },
  {
   "cell_type": "code",
   "execution_count": 30,
   "id": "a8020b9d-9943-4958-984d-9d4cb5d0e122",
   "metadata": {},
   "outputs": [],
   "source": [
    "output_file = pa(\"output.txt\")\n",
    "\n",
    "with open(output_file, 'w') as file_object:\n",
    "    file_object.write(\"This is the output file wriiten by python code.\\n\\n\")\n",
    "    file_object.write(content)\n"
   ]
  },
  {
   "cell_type": "code",
   "execution_count": null,
   "id": "373753cc-dd91-4a5d-a61d-69ea8006e9ca",
   "metadata": {},
   "outputs": [],
   "source": []
  }
 ],
 "metadata": {
  "kernelspec": {
   "display_name": "Python 3",
   "language": "python",
   "name": "python3"
  },
  "language_info": {
   "codemirror_mode": {
    "name": "ipython",
    "version": 3
   },
   "file_extension": ".py",
   "mimetype": "text/x-python",
   "name": "python",
   "nbconvert_exporter": "python",
   "pygments_lexer": "ipython3",
   "version": "3.6.8"
  }
 },
 "nbformat": 4,
 "nbformat_minor": 5
}
