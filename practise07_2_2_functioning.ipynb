{
 "cells": [
  {
   "cell_type": "code",
   "execution_count": 1,
   "id": "38cdcf6a-b9c1-4f46-a125-cd3fa76414dd",
   "metadata": {},
   "outputs": [
    {
     "data": {
      "text/plain": [
       "7"
      ]
     },
     "execution_count": 1,
     "metadata": {},
     "output_type": "execute_result"
    }
   ],
   "source": [
    "# we can create our own functions\n",
    "# for instance: calculate the sum of two numbers.\n",
    "def addition(num1, num2):\n",
    "    sum = num1+num2\n",
    "    return sum\n",
    "addition(3,4)\n",
    "\n",
    "    "
   ]
  },
  {
   "cell_type": "code",
   "execution_count": 4,
   "id": "e7338888-f850-43d1-bc63-0c04885aacbc",
   "metadata": {},
   "outputs": [
    {
     "name": "stdout",
     "output_type": "stream",
     "text": [
      "pi = 3.141592653589793\n"
     ]
    }
   ],
   "source": [
    "# we can import functions that other people created for general usage.\n",
    "# and then when nessessary, we can simiply call up the functions\n",
    "import math\n",
    "print(\"pi =\", math.pi)"
   ]
  },
  {
   "cell_type": "code",
   "execution_count": 7,
   "id": "a4ab68bc-bc7b-47ee-b2d5-0502faeeed58",
   "metadata": {},
   "outputs": [
    {
     "name": "stdout",
     "output_type": "stream",
     "text": [
      "Apple's stock price is going up dramatically\n"
     ]
    }
   ],
   "source": [
    "# comcat and defint a printing function\n",
    "def main(stock_name):\n",
    "    print(f\"{stock_name}'s stock price is going up dramatically\")\n",
    "\n",
    "main(\"Apple\")\n"
   ]
  },
  {
   "cell_type": "code",
   "execution_count": 8,
   "id": "7bab03dc-95ca-4489-b5dd-9eaecc673d74",
   "metadata": {},
   "outputs": [
    {
     "name": "stdout",
     "output_type": "stream",
     "text": [
      "58500000000\n"
     ]
    }
   ],
   "source": [
    "# To calculate the market capitalization of a particular share\n",
    "def calculate_market_cap(share_price, number_of_shares):\n",
    "    cap = share_price * number_of_shares\n",
    "    return cap\n",
    "\n",
    "# Tesla's share price right now is $1300, and its total number of share is 45 mil\n",
    "print(calculate_market_cap(1300, 45000000))"
   ]
  },
  {
   "cell_type": "code",
   "execution_count": 9,
   "id": "1609a9d2-5fc6-476f-a785-4dda593c1194",
   "metadata": {},
   "outputs": [
    {
     "data": {
      "text/plain": [
       "'\\nFinally Functioning\\nto calculate compound annual growth rate (CAGR) for an investment portfolio\\n'"
      ]
     },
     "execution_count": 9,
     "metadata": {},
     "output_type": "execute_result"
    }
   ],
   "source": [
    "'''\n",
    "Finally Functioning\n",
    "to calculate compound annual growth rate (CAGR) for an investment portfolio\n",
    "'''"
   ]
  },
  {
   "cell_type": "code",
   "execution_count": 13,
   "id": "c12c8ad1-a6e6-4058-a819-0b09388a95bd",
   "metadata": {},
   "outputs": [
    {
     "name": "stdout",
     "output_type": "stream",
     "text": [
      "0.5517241379310345\n"
     ]
    }
   ],
   "source": [
    "\"\"\"\n",
    "Determine the Compound Annual Growth Rate for an investment\n",
    "\"\"\"\n",
    "\n",
    "# Declare a variable beginning_balance as a float\n",
    "beginning_balance = 29000.00\n",
    "\n",
    "# Declare a variable ending_balance as float\n",
    "ending_balance = 45000.00\n",
    "\n",
    "# Declare a variable years as an float\n",
    "years = 1.0\n",
    "\n",
    "# Define a function called calculate_compound_growth_rate with three arguments: beginning_balance, ending_balance, years. Function should output growth_rate.\n",
    "def calculate_compound_growth_rate(beginning_balance, ending_balance, years):\n",
    "    growth_rate = (ending_balance/beginning_balance)**(1/years) - 1\n",
    "    \n",
    "    return growth_rate\n",
    "\n",
    "# Call calculate_compound_growth_rate using beginning_balance, ending_balance, and years. Capture as year_one_growth.\n",
    "year_one_growth = calculate_compound_growth_rate(beginning_balance,ending_balance,years)\n",
    "print(year_one_growth)\n"
   ]
  },
  {
   "cell_type": "code",
   "execution_count": null,
   "id": "49d4e38c-8280-400a-b019-82287705f213",
   "metadata": {},
   "outputs": [],
   "source": []
  },
  {
   "cell_type": "code",
   "execution_count": null,
   "id": "86260689-6699-46a5-adfc-76507e1514ee",
   "metadata": {},
   "outputs": [],
   "source": []
  }
 ],
 "metadata": {
  "kernelspec": {
   "display_name": "Python 3",
   "language": "python",
   "name": "python3"
  },
  "language_info": {
   "codemirror_mode": {
    "name": "ipython",
    "version": 3
   },
   "file_extension": ".py",
   "mimetype": "text/x-python",
   "name": "python",
   "nbconvert_exporter": "python",
   "pygments_lexer": "ipython3",
   "version": "3.6.8"
  }
 },
 "nbformat": 4,
 "nbformat_minor": 5
}
