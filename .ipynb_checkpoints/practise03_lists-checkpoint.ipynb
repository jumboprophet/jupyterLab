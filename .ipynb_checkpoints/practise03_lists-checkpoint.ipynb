{
 "cells": [
  {
   "cell_type": "code",
   "execution_count": 24,
   "id": "1a72e905-ed22-47b1-9747-c74090286c56",
   "metadata": {},
   "outputs": [
    {
     "name": "stdout",
     "output_type": "stream",
     "text": [
      "['Audi', 'BMW', 'Mercedes', 'Toyota', 'Mitsubishi', 'Mazda', 'Fararri', 'Lambogini', 'Tasla']\n",
      "['Audi', 'BMW', 'Mercedes', 'Toyota', 'Mitsubishi', 'Mazda', 'Fararri', 'Lambogini', 'Tasla', 'Honda']\n"
     ]
    }
   ],
   "source": [
    "# creating a list of car brands\n",
    "\n",
    "cars = [\"Audi\", \"BMW\", \"Mercedes\", \"Toyota\", \"Mitsubishi\", \"Mazda\", \"Fararri\", \"Lambogini\", \"Tasla\"]\n",
    "\n",
    "#print out the whole list\n",
    "print(cars)\n",
    "\n",
    "# add Honda at the end and print the new list\n",
    "cars.append(\"Honda\")\n",
    "print(cars)"
   ]
  },
  {
   "cell_type": "code",
   "execution_count": 20,
   "id": "424d7563-a07f-4fe4-adfe-c26e0f46dd62",
   "metadata": {},
   "outputs": [
    {
     "name": "stdout",
     "output_type": "stream",
     "text": [
      "['Audi', 'BMW', 'Mercedes', 'Toyota', 'Mitsubishi', 'Mazda', 'Fararri', 'Lambogini', 'Tasla', 'Honda']\n",
      "Mercedes\n",
      "['Mercedes', 'Toyota', 'Mitsubishi', 'Mazda']\n"
     ]
    }
   ],
   "source": [
    "#print out the whole list\n",
    "print(cars)\n",
    "\n",
    "# print out the 3rd car in the list\n",
    "print(cars[2])\n",
    "\n",
    "# print out from 3rd to 7th\n",
    "print(cars[2:6])"
   ]
  },
  {
   "cell_type": "code",
   "execution_count": 21,
   "id": "dd67ed80-c7c6-4b5b-8974-320bbec8aa55",
   "metadata": {},
   "outputs": [
    {
     "name": "stdout",
     "output_type": "stream",
     "text": [
      "['Mercedes', 'Toyota', 'Mitsubishi', 'Mazda', 'Fararri', 'Lambogini', 'Tasla', 'Honda']\n",
      "['Audi', 'BMW']\n",
      "['Audi', 'Mercedes', 'Mitsubishi', 'Fararri', 'Tasla']\n"
     ]
    }
   ],
   "source": [
    "# print out elements from 3rd onwards\n",
    "print(cars[2:])\n",
    "\n",
    "# print out first 2 elements\n",
    "print(cars[:2])\n",
    "\n",
    "# print(start:end:step)\n",
    "# print every other elements\n",
    "print(cars[::2])"
   ]
  },
  {
   "cell_type": "code",
   "execution_count": 22,
   "id": "63ac6e7e-3483-4b37-93f3-e3bd146e2ca9",
   "metadata": {},
   "outputs": [
    {
     "name": "stdout",
     "output_type": "stream",
     "text": [
      "Honda\n",
      "Tasla\n",
      "['Tasla', 'Honda']\n"
     ]
    }
   ],
   "source": [
    "# print out the last(last 2nd or last two) element\n",
    "print(cars[-1])\n",
    "print(cars[-2])\n",
    "print(cars[-2:])"
   ]
  },
  {
   "cell_type": "code",
   "execution_count": null,
   "id": "37c6b1e6-b862-45b3-9c88-3924d5378549",
   "metadata": {},
   "outputs": [],
   "source": []
  }
 ],
 "metadata": {
  "kernelspec": {
   "display_name": "Python 3",
   "language": "python",
   "name": "python3"
  },
  "language_info": {
   "codemirror_mode": {
    "name": "ipython",
    "version": 3
   },
   "file_extension": ".py",
   "mimetype": "text/x-python",
   "name": "python",
   "nbconvert_exporter": "python",
   "pygments_lexer": "ipython3",
   "version": "3.6.8"
  }
 },
 "nbformat": 4,
 "nbformat_minor": 5
}
