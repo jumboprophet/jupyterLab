{
 "cells": [
  {
   "cell_type": "code",
   "execution_count": 16,
   "id": "8ac2eba2-0234-42b5-a413-753342b5e404",
   "metadata": {},
   "outputs": [
    {
     "name": "stdout",
     "output_type": "stream",
     "text": [
      "Give me a p!\n",
      "p!\n",
      "Give me a y!\n",
      "y!\n",
      "Give me a t!\n",
      "t!\n",
      "Give me a h!\n",
      "h!\n",
      "Give me a o!\n",
      "o!\n",
      "Give me a n!\n",
      "n!\n",
      "\n",
      "What does that spell?!\n",
      "python!python!python!\n"
     ]
    }
   ],
   "source": [
    "# declair a word and a list\n",
    "word = \"python\"\n",
    "word_list = []\n",
    "\n",
    "# put every letter into the list using list.append\n",
    "for x in word:\n",
    "    word_list.append(x)\n",
    "\n",
    "# print out the cheer\n",
    "for x in word:\n",
    "    print(f\"Give me a {x}!\")\n",
    "    print(f\"{x}!\")\n",
    "\n",
    "print(\"\\nWhat does that spell?!\")\n",
    "print(f\"{word}!\" * 3)\n",
    "\n"
   ]
  },
  {
   "cell_type": "code",
   "execution_count": null,
   "id": "f40831e5-ba61-4fcb-97b4-fe6e16ab116b",
   "metadata": {},
   "outputs": [],
   "source": []
  }
 ],
 "metadata": {
  "kernelspec": {
   "display_name": "Python 3",
   "language": "python",
   "name": "python3"
  },
  "language_info": {
   "codemirror_mode": {
    "name": "ipython",
    "version": 3
   },
   "file_extension": ".py",
   "mimetype": "text/x-python",
   "name": "python",
   "nbconvert_exporter": "python",
   "pygments_lexer": "ipython3",
   "version": "3.6.8"
  }
 },
 "nbformat": 4,
 "nbformat_minor": 5
}
