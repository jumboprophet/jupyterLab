{
 "cells": [
  {
   "cell_type": "code",
   "execution_count": 1,
   "id": "4c08a600-3d4d-42e4-b7c2-877635c9961b",
   "metadata": {},
   "outputs": [
    {
     "name": "stdout",
     "output_type": "stream",
     "text": [
      "{'january': 'Michael', 'febrery': 'Ivy', 'march': 'Michelle', 'april': 'Andrew', 'may': 'Lucas', 'June': 'Janice'}\n"
     ]
    }
   ],
   "source": [
    "# in corresponding. one on one.\n",
    "top_sales = {\n",
    "                \"january\" : \"Michael\",\n",
    "                \"febrery\" : \"Ivy\",\n",
    "                \"march\" : \"Michelle\",\n",
    "                \"april\" : \"Andrew\",\n",
    "                \"may\" : \"Lucas\",\n",
    "                \"June\" : \"Janice\"\n",
    "                \n",
    "}\n",
    "\n",
    "print(top_sales)"
   ]
  },
  {
   "cell_type": "code",
   "execution_count": 2,
   "id": "78b6a28f-dc7c-4442-ad6a-b17b6fddec03",
   "metadata": {},
   "outputs": [
    {
     "data": {
      "text/plain": [
       "{'january': 'Michael',\n",
       " 'febrery': 'Ivy',\n",
       " 'march': 'Michelle',\n",
       " 'april': 'Andrew',\n",
       " 'may': 'Lucas',\n",
       " 'June': 'Janice'}"
      ]
     },
     "execution_count": 2,
     "metadata": {},
     "output_type": "execute_result"
    }
   ],
   "source": [
    "top_sales"
   ]
  },
  {
   "cell_type": "code",
   "execution_count": 4,
   "id": "4a85686e-6917-4449-89f9-c42e484bb0b5",
   "metadata": {},
   "outputs": [
    {
     "name": "stdout",
     "output_type": "stream",
     "text": [
      "Michelle\n",
      "Lucas\n"
     ]
    }
   ],
   "source": [
    "# To get a particular element value by looking up the key\n",
    "print(top_sales[\"march\"])\n",
    "print(top_sales[\"may\"])"
   ]
  },
  {
   "cell_type": "code",
   "execution_count": 6,
   "id": "481d23fd-8abf-41c3-b7f6-907c6708e664",
   "metadata": {},
   "outputs": [
    {
     "name": "stdout",
     "output_type": "stream",
     "text": [
      "{'january': 'Michael', 'febrery': 'Ivy', 'march': 'Michelle', 'april': 'Andrew', 'may': 'Lucas', 'June': 'Janice', 'July': 'Amy'}\n"
     ]
    }
   ],
   "source": [
    "# To add a new element into the dict\n",
    "top_sales[\"July\"] = \"Amy\"\n",
    "print(top_sales)"
   ]
  },
  {
   "cell_type": "code",
   "execution_count": 7,
   "id": "c7a9a619-046a-4c58-be1c-485ae58529a8",
   "metadata": {},
   "outputs": [
    {
     "name": "stdout",
     "output_type": "stream",
     "text": [
      "{'january': 'Michael', 'febrery': 'Ivy', 'march': 'Michelle', 'april': 'Eva KANG', 'may': 'Lucas', 'June': 'Janice', 'July': 'Amy'}\n"
     ]
    }
   ],
   "source": [
    "# To modify the current value of a particular key\n",
    "top_sales[\"april\"] = \"Eva KANG\"\n",
    "print(top_sales)"
   ]
  },
  {
   "cell_type": "code",
   "execution_count": 8,
   "id": "9c24e424-7f44-485c-8527-985bc8d8148b",
   "metadata": {},
   "outputs": [
    {
     "name": "stdout",
     "output_type": "stream",
     "text": [
      "{'january': 'Michael', 'febrery': 'Ivy', 'march': 'Michelle', 'april': 'Eva KANG', 'may': 'Lucas', 'June': 'Janice'}\n"
     ]
    }
   ],
   "source": [
    "# To delete a value using del\n",
    "del top_sales[\"July\"]\n",
    "print(top_sales)"
   ]
  },
  {
   "cell_type": "code",
   "execution_count": 15,
   "id": "d82f3684-046f-4550-9c1b-0ae510513744",
   "metadata": {},
   "outputs": [
    {
     "name": "stdout",
     "output_type": "stream",
     "text": [
      "Yes, it is. Its value is Lucas\n",
      "No, it isn't, 'Janice' is a value not a key\n"
     ]
    }
   ],
   "source": [
    "# To check if an element in the dict\n",
    "if \"may\" in top_sales:\n",
    "    print(f\"Yes, it is. Its value is {top_sales['may']}\")\n",
    "if \"Janice\" in top_sales:\n",
    "    print(\"Yes, it is\")\n",
    "else:   \n",
    "    print(\"No, it isn't, 'Janice' is a value not a key\")"
   ]
  },
  {
   "cell_type": "code",
   "execution_count": 17,
   "id": "3416b814-8eac-429e-a56c-c481fc8e1e3e",
   "metadata": {},
   "outputs": [
    {
     "name": "stdout",
     "output_type": "stream",
     "text": [
      "january      Michael\n",
      "febrery      Ivy\n",
      "march      Michelle\n",
      "april      Eva KANG\n",
      "may      Lucas\n",
      "June      Janice\n"
     ]
    }
   ],
   "source": [
    "# To print all the keys out\n",
    "for key in top_sales:\n",
    "    print(key, \"    \", top_sales[key])"
   ]
  },
  {
   "cell_type": "code",
   "execution_count": 25,
   "id": "1bac7369-dcd9-4427-94ab-36ed0e457a48",
   "metadata": {},
   "outputs": [
    {
     "name": "stdout",
     "output_type": "stream",
     "text": [
      "Key january Value Michael\n",
      "Key febrery Value Ivy\n",
      "Key march Value Michelle\n",
      "Key april Value Eva KANG\n",
      "Key may Value Lucas\n",
      "Key June Value Janice\n",
      "january Michael\n",
      "febrery Ivy\n",
      "march Michelle\n",
      "april Eva KANG\n",
      "may Lucas\n",
      "June Janice\n"
     ]
    }
   ],
   "source": [
    "for k,v in top_sales.items():\n",
    "    print(\"Key\", k, \"Value\", v)\n",
    "for k,v in top_sales.items():\n",
    "    print(k,v)"
   ]
  },
  {
   "cell_type": "code",
   "execution_count": null,
   "id": "bdd8dda2-cdc3-4bc3-b284-c51194dbc791",
   "metadata": {},
   "outputs": [],
   "source": []
  }
 ],
 "metadata": {
  "kernelspec": {
   "display_name": "Python 3",
   "language": "python",
   "name": "python3"
  },
  "language_info": {
   "codemirror_mode": {
    "name": "ipython",
    "version": 3
   },
   "file_extension": ".py",
   "mimetype": "text/x-python",
   "name": "python",
   "nbconvert_exporter": "python",
   "pygments_lexer": "ipython3",
   "version": "3.6.8"
  }
 },
 "nbformat": 4,
 "nbformat_minor": 5
}
