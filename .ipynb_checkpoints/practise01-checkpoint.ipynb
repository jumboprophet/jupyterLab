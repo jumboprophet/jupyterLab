{
 "cells": [
  {
   "cell_type": "code",
   "execution_count": 1,
   "id": "e65bc541-6fbb-4799-9ee1-9a770d412948",
   "metadata": {},
   "outputs": [
    {
     "name": "stdout",
     "output_type": "stream",
     "text": [
      "Hello world\n"
     ]
    }
   ],
   "source": [
    "print(\"Hello world\")"
   ]
  },
  {
   "cell_type": "code",
   "execution_count": 2,
   "id": "e917684b-7f01-4bf6-8efc-7224127b08a2",
   "metadata": {},
   "outputs": [
    {
     "name": "stdout",
     "output_type": "stream",
     "text": [
      "Hello world from another cell\n"
     ]
    }
   ],
   "source": [
    "print(\"Hello world from another cell\")"
   ]
  },
  {
   "cell_type": "code",
   "execution_count": 5,
   "id": "5595ec3d-ab41-40ee-a649-b914454e41e1",
   "metadata": {},
   "outputs": [],
   "source": [
    "original_price = 19.5\n",
    "current_price = 21\n",
    "increase = current_price - original_price\n",
    "percentage_price = increase/original_price * 100"
   ]
  },
  {
   "cell_type": "code",
   "execution_count": 8,
   "id": "1fe15749-8733-4d05-bc15-b4acfe11f993",
   "metadata": {},
   "outputs": [
    {
     "name": "stdout",
     "output_type": "stream",
     "text": [
      "1.5\n",
      "7.6923076923076925\n"
     ]
    }
   ],
   "source": [
    "print (increase)\n",
    "print (percentage_price)"
   ]
  },
  {
   "cell_type": "code",
   "execution_count": 13,
   "id": "cdc9751a-cd14-4533-a9d6-39c95b4d47e8",
   "metadata": {},
   "outputs": [
    {
     "name": "stdout",
     "output_type": "stream",
     "text": [
      "Calvin KANG\n",
      "39\n",
      "177.5\n",
      "68.5\n",
      "True\n",
      "False\n"
     ]
    }
   ],
   "source": [
    "# Variables\n",
    "name = \"Calvin KANG\"\n",
    "age = 39\n",
    "height_cm = 177.5\n",
    "weight_kg = 68.5\n",
    "married = True\n",
    "criminal = False\n",
    "\n",
    "# Printing the variables\n",
    "print (name)\n",
    "print (age)\n",
    "print (height_cm)\n",
    "print (weight_kg)\n",
    "print (married)\n",
    "print (criminal)"
   ]
  },
  {
   "cell_type": "code",
   "execution_count": 16,
   "id": "876189b5-3efe-4c9f-b669-7ee1e88af888",
   "metadata": {},
   "outputs": [
    {
     "name": "stdout",
     "output_type": "stream",
     "text": [
      "Please show me the types of those variable: \n",
      "<class 'str'>\n",
      "<class 'int'>\n",
      "<class 'float'>\n",
      "<class 'float'>\n",
      "<class 'bool'>\n",
      "<class 'bool'>\n"
     ]
    }
   ],
   "source": [
    "# print out the type of variables\n",
    "print (\"Please show me the types of those variable: \")\n",
    "print (type(name))\n",
    "print(type(age))\n",
    "print(type(height_cm))\n",
    "print(type(weight_kg))\n",
    "print(type(married))\n",
    "print(type(criminal))\n"
   ]
  },
  {
   "cell_type": "code",
   "execution_count": 21,
   "id": "6e65b818-03db-46a2-bd26-b423787526c4",
   "metadata": {},
   "outputs": [
    {
     "name": "stdout",
     "output_type": "stream",
     "text": [
      "The average speed of this trip is: 92.85714285714286 KPH.\n"
     ]
    }
   ],
   "source": [
    "# Substituting/formatting the variables\n",
    "lenth = 520\n",
    "hour = 5.6\n",
    "speed = lenth / hour\n",
    "\n",
    "message = f\"The average speed of this trip is: {speed} KPH.\"\n",
    "print(message)"
   ]
  },
  {
   "cell_type": "code",
   "execution_count": 31,
   "id": "23c7a715-c969-432f-a89a-bc35aa3a7aa4",
   "metadata": {},
   "outputs": [
    {
     "name": "stdout",
     "output_type": "stream",
     "text": [
      "The average speed of this trip is: 92.85714285714286 .\n"
     ]
    }
   ],
   "source": [
    "# The traditional way of doing this\n",
    "print(\"The average speed of this trip is:\", speed, \".\")"
   ]
  },
  {
   "cell_type": "code",
   "execution_count": 32,
   "id": "726b4686-f907-4f5f-bef0-1f357d8dde84",
   "metadata": {},
   "outputs": [
    {
     "name": "stdout",
     "output_type": "stream",
     "text": [
      "The marriage status of Calvin is: True.\n"
     ]
    }
   ],
   "source": [
    "# more about F-string\n",
    "print(f\"The marriage status of Calvin is: {married}.\")"
   ]
  },
  {
   "cell_type": "code",
   "execution_count": 33,
   "id": "3504af4c-d0ba-445d-addd-8f045bdcb09b",
   "metadata": {},
   "outputs": [],
   "source": [
    "# Variable naming conventions\n",
    "# bad example\n",
    "mpg = 24\n",
    "# better example\n",
    "miles_per_gallon = 24\n",
    "\n"
   ]
  },
  {
   "cell_type": "code",
   "execution_count": 42,
   "id": "6dd2dca9-2d9b-4045-8e1a-176e45812d35",
   "metadata": {},
   "outputs": [
    {
     "name": "stdout",
     "output_type": "stream",
     "text": [
      "No worries, This is the auto-pilot mode.\n",
      "\n",
      "Now I am good to go\n"
     ]
    }
   ],
   "source": [
    "# Conditional statements\n",
    "\n",
    "# Declaration and Assignment of the variable\n",
    "driverless_car = True\n",
    "\n",
    "# Conditional statement of displaying\n",
    "if driverless_car:\n",
    "    # Do something\n",
    "    print(\"No worries, This is the auto-pilot mode.\")\n",
    "    print(\"\")\n",
    "    print(\"Now I am good to go\")\n",
    "    \n",
    "else:\n",
    "    # Do something else\n",
    "    print(\"You need to put your hands on the wheel, and watch the road\")\n",
    "    "
   ]
  },
  {
   "cell_type": "code",
   "execution_count": 57,
   "id": "aaca3df4-4707-41b5-b2b5-fa56eaf2577b",
   "metadata": {},
   "outputs": [
    {
     "name": "stdout",
     "output_type": "stream",
     "text": [
      "x is equal to one\n",
      "The production of x and y is equal to 4.\n"
     ]
    }
   ],
   "source": [
    "# Another conditional example\n",
    "x = 1\n",
    "y = 4\n",
    "\n",
    "if x == 1:\n",
    "    print(\"x is equal to one\")\n",
    "    if y == 2:\n",
    "        print(f\"The addition of x and y is equal to {x+y}.\")\n",
    "    elif y == 4:\n",
    "        print(f\"The production of x and y is equal to {x*y}.\")\n",
    "\n",
    "else:\n",
    "    print(\"x is NOT equal to one\")"
   ]
  },
  {
   "cell_type": "code",
   "execution_count": 63,
   "id": "b1098fe6-187d-461e-a673-104d079b61a6",
   "metadata": {},
   "outputs": [
    {
     "name": "stdout",
     "output_type": "stream",
     "text": [
      "3\n",
      "Question 2 works!\n"
     ]
    }
   ],
   "source": [
    "# 2.\n",
    "x = 5\n",
    "y = 10\n",
    "if len(\"Dog\") < x:\n",
    "    print(len(\"Dog\"))\n",
    "    print(\"Question 2 works!\")\n",
    "else:\n",
    "    print(\"Still missing out\")"
   ]
  },
  {
   "cell_type": "code",
   "execution_count": 66,
   "id": "64ecbcfb-02b0-41d6-b4c8-a1ce501e193d",
   "metadata": {},
   "outputs": [
    {
     "name": "stdout",
     "output_type": "stream",
     "text": [
      "16\n"
     ]
    }
   ],
   "source": [
    "# ** is the power of something\n",
    "x = 2\n",
    "print(x**4)"
   ]
  },
  {
   "cell_type": "code",
   "execution_count": 67,
   "id": "1dd20d6f-a1e3-4aa5-816d-bdb2f1bc11fa",
   "metadata": {},
   "outputs": [
    {
     "name": "stdout",
     "output_type": "stream",
     "text": [
      "0\n",
      "1\n",
      "2\n",
      "3\n",
      "4\n"
     ]
    }
   ],
   "source": [
    "# Breaking the loop\n",
    "# from 0 to 4, print(x) goes thru, whereas when it turns 5, excecute the break statement, jump out of loop.\n",
    "desire_number = 5\n",
    "\n",
    "for x in range(10):\n",
    "    if x == desire_number:\n",
    "        break\n",
    "    print(x)"
   ]
  },
  {
   "cell_type": "code",
   "execution_count": 68,
   "id": "36786852-dcf7-44ea-aa52-f2dc13b208c3",
   "metadata": {},
   "outputs": [
    {
     "name": "stdout",
     "output_type": "stream",
     "text": [
      "0\n",
      "1\n",
      "2\n",
      "3\n",
      "4\n",
      "6\n",
      "7\n",
      "8\n",
      "9\n"
     ]
    }
   ],
   "source": [
    "# skip a target in a loop\n",
    "# when the counting turns 5, skip this counting and its statement inside, moving onto the next counting\n",
    "desire_number = 5\n",
    "\n",
    "for x in range(10):\n",
    "    if x == desire_number:\n",
    "        continue\n",
    "    print(x)"
   ]
  },
  {
   "cell_type": "code",
   "execution_count": 72,
   "id": "36040861-c46b-4fa8-a50c-8336270e1f27",
   "metadata": {},
   "outputs": [
    {
     "name": "stdout",
     "output_type": "stream",
     "text": [
      "0\n",
      "1\n",
      "2\n",
      "3\n",
      "4\n",
      "5\n",
      "6\n",
      "7\n",
      "8\n",
      "9\n"
     ]
    }
   ],
   "source": [
    "# while loop\n",
    "\n",
    "# initialize the counter\n",
    "i = 0\n",
    "\n",
    "# set the while condition as the end of while loop (i<10)\n",
    "while i < 10:\n",
    "    print(i)\n",
    "    \n",
    "    # increment the counter\n",
    "    i += 1\n"
   ]
  },
  {
   "cell_type": "code",
   "execution_count": 78,
   "id": "254bf04c-70ed-432d-9d8b-221aa0772fd0",
   "metadata": {},
   "outputs": [
    {
     "name": "stdout",
     "output_type": "stream",
     "text": [
      "2\n",
      "4\n",
      "6\n",
      "8\n",
      "10\n",
      "12\n",
      "14\n",
      "16\n",
      "18\n",
      "20\n",
      "22\n",
      "24\n",
      "26\n",
      "28\n",
      "30\n",
      "32\n",
      "34\n",
      "36\n",
      "38\n",
      "40\n",
      "42\n",
      "44\n",
      "46\n",
      "48\n",
      "50\n",
      "52\n",
      "54\n",
      "56\n",
      "58\n",
      "60\n",
      "62\n",
      "64\n",
      "66\n",
      "68\n",
      "70\n",
      "72\n",
      "74\n",
      "76\n",
      "78\n",
      "80\n",
      "82\n",
      "84\n",
      "86\n",
      "88\n",
      "90\n",
      "92\n",
      "94\n",
      "96\n",
      "98\n",
      "100\n"
     ]
    }
   ],
   "source": [
    "# print out all the even number within [1,100]\n",
    "\"\"\"\n",
    "for x in range(1,101):\n",
    "    if x % 2 == 0:\n",
    "        print(x)\n",
    "\"\"\"\n",
    "\n",
    "\n",
    "# 2nd method with while loop\n",
    "number = 2\n",
    "\n",
    "while number <= 100:\n",
    "    print(number)\n",
    "    number+=2"
   ]
  },
  {
   "cell_type": "code",
   "execution_count": 105,
   "id": "6e4d8478-cb6f-4325-9b0e-5e4d4ba1cdec",
   "metadata": {
    "tags": []
   },
   "outputs": [
    {
     "name": "stdout",
     "output_type": "stream",
     "text": [
      "1 1\n",
      "2 3\n",
      "3 6\n",
      "4 10\n",
      "5 15\n",
      "6 21\n",
      "7 28\n",
      "8 36\n",
      "9 45\n",
      "10 55\n"
     ]
    }
   ],
   "source": [
    "# add up all numbers from 1 to 10 included\n",
    "sum = 0\n",
    "\n",
    "for i in range(1,11):\n",
    "    sum = sum + i\n",
    "    print(i, sum)"
   ]
  },
  {
   "cell_type": "code",
   "execution_count": 107,
   "id": "6f975681-fdbd-4391-a5e6-d1f8caa302a0",
   "metadata": {},
   "outputs": [
    {
     "name": "stdout",
     "output_type": "stream",
     "text": [
      "0 0\n",
      "2 2\n",
      "4 6\n",
      "6 12\n",
      "8 20\n",
      "10 30\n",
      "12 42\n",
      "14 56\n",
      "16 72\n",
      "18 90\n",
      "20 110\n",
      "22 132\n",
      "24 156\n",
      "26 182\n",
      "28 210\n",
      "30 240\n",
      "32 272\n",
      "34 306\n",
      "36 342\n",
      "38 380\n",
      "40 420\n",
      "42 462\n",
      "44 506\n",
      "46 552\n",
      "48 600\n",
      "50 650\n",
      "52 702\n",
      "54 756\n",
      "56 812\n",
      "58 870\n",
      "60 930\n",
      "62 992\n",
      "64 1056\n",
      "66 1122\n",
      "68 1190\n",
      "70 1260\n",
      "72 1332\n",
      "74 1406\n",
      "76 1482\n",
      "78 1560\n",
      "80 1640\n",
      "82 1722\n",
      "84 1806\n",
      "86 1892\n",
      "88 1980\n",
      "90 2070\n",
      "92 2162\n",
      "94 2256\n",
      "96 2352\n",
      "98 2450\n",
      "100 2550\n"
     ]
    }
   ],
   "source": [
    "# add up all even number less than 100\n",
    "sum = 0\n",
    "\n",
    "for i in range(101):\n",
    "    if i % 2 == 0:\n",
    "        sum = sum + i\n",
    "        print(i, sum)"
   ]
  },
  {
   "cell_type": "code",
   "execution_count": 108,
   "id": "93da6a18-90d9-4c33-b0dc-6a31fa862818",
   "metadata": {},
   "outputs": [
    {
     "name": "stdout",
     "output_type": "stream",
     "text": [
      "0.38\n",
      "0.38\n"
     ]
    }
   ],
   "source": [
    "# keep to x decimal number\n",
    "\n",
    "float_number = 3/8\n",
    "\n",
    "print(round(float_number,2))\n",
    "# print(float_number)\n",
    "      \n",
    "print(\"%.2f\" % float_number)\n"
   ]
  },
  {
   "cell_type": "code",
   "execution_count": 110,
   "id": "51fda25f-3322-475e-84bd-714380620147",
   "metadata": {},
   "outputs": [
    {
     "name": "stdout",
     "output_type": "stream",
     "text": [
      "0 1\n",
      "1 2\n",
      "2 4\n",
      "3 8\n",
      "4 16\n",
      "5 32\n",
      "6 64\n",
      "7 128\n",
      "8 256\n",
      "9 512\n",
      "10 1024\n",
      "11 2048\n",
      "12 4096\n",
      "13 8192\n",
      "14 16384\n",
      "15 32768\n",
      "16 65536\n"
     ]
    }
   ],
   "source": [
    "# listing 2's power\n",
    "\n",
    "for i in range(17):\n",
    "    print(i, 2 ** i)"
   ]
  },
  {
   "cell_type": "code",
   "execution_count": null,
   "id": "a4cd6b10-5d34-4bcd-9937-072d020230b1",
   "metadata": {},
   "outputs": [],
   "source": []
  }
 ],
 "metadata": {
  "kernelspec": {
   "display_name": "Python 3",
   "language": "python",
   "name": "python3"
  },
  "language_info": {
   "codemirror_mode": {
    "name": "ipython",
    "version": 3
   },
   "file_extension": ".py",
   "mimetype": "text/x-python",
   "name": "python",
   "nbconvert_exporter": "python",
   "pygments_lexer": "ipython3",
   "version": "3.6.8"
  }
 },
 "nbformat": 4,
 "nbformat_minor": 5
}
