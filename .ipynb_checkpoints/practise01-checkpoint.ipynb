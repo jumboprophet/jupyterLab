{
 "cells": [
  {
   "cell_type": "code",
   "execution_count": 1,
   "id": "e65bc541-6fbb-4799-9ee1-9a770d412948",
   "metadata": {},
   "outputs": [
    {
     "name": "stdout",
     "output_type": "stream",
     "text": [
      "Hello world\n"
     ]
    }
   ],
   "source": [
    "print(\"Hello world\")"
   ]
  },
  {
   "cell_type": "code",
   "execution_count": 2,
   "id": "e917684b-7f01-4bf6-8efc-7224127b08a2",
   "metadata": {},
   "outputs": [
    {
     "name": "stdout",
     "output_type": "stream",
     "text": [
      "Hello world from another cell\n"
     ]
    }
   ],
   "source": [
    "print(\"Hello world from another cell\")"
   ]
  },
  {
   "cell_type": "code",
   "execution_count": 5,
   "id": "5595ec3d-ab41-40ee-a649-b914454e41e1",
   "metadata": {},
   "outputs": [],
   "source": [
    "original_price = 19.5\n",
    "current_price = 21\n",
    "increase = current_price - original_price\n",
    "percentage_price = increase/original_price * 100"
   ]
  },
  {
   "cell_type": "code",
   "execution_count": 8,
   "id": "1fe15749-8733-4d05-bc15-b4acfe11f993",
   "metadata": {},
   "outputs": [
    {
     "name": "stdout",
     "output_type": "stream",
     "text": [
      "1.5\n",
      "7.6923076923076925\n"
     ]
    }
   ],
   "source": [
    "print (increase)\n",
    "print (percentage_price)"
   ]
  },
  {
   "cell_type": "code",
   "execution_count": 13,
   "id": "cdc9751a-cd14-4533-a9d6-39c95b4d47e8",
   "metadata": {},
   "outputs": [
    {
     "name": "stdout",
     "output_type": "stream",
     "text": [
      "Calvin KANG\n",
      "39\n",
      "177.5\n",
      "68.5\n",
      "True\n",
      "False\n"
     ]
    }
   ],
   "source": [
    "# Variables\n",
    "name = \"Calvin KANG\"\n",
    "age = 39\n",
    "height_cm = 177.5\n",
    "weight_kg = 68.5\n",
    "married = True\n",
    "criminal = False\n",
    "\n",
    "# Printing the variables\n",
    "print (name)\n",
    "print (age)\n",
    "print (height_cm)\n",
    "print (weight_kg)\n",
    "print (married)\n",
    "print (criminal)"
   ]
  },
  {
   "cell_type": "code",
   "execution_count": 16,
   "id": "876189b5-3efe-4c9f-b669-7ee1e88af888",
   "metadata": {},
   "outputs": [
    {
     "name": "stdout",
     "output_type": "stream",
     "text": [
      "Please show me the types of those variable: \n",
      "<class 'str'>\n",
      "<class 'int'>\n",
      "<class 'float'>\n",
      "<class 'float'>\n",
      "<class 'bool'>\n",
      "<class 'bool'>\n"
     ]
    }
   ],
   "source": [
    "# print out the type of variables\n",
    "print (\"Please show me the types of those variable: \")\n",
    "print (type(name))\n",
    "print(type(age))\n",
    "print(type(height_cm))\n",
    "print(type(weight_kg))\n",
    "print(type(married))\n",
    "print(type(criminal))\n"
   ]
  },
  {
   "cell_type": "code",
   "execution_count": 21,
   "id": "6e65b818-03db-46a2-bd26-b423787526c4",
   "metadata": {},
   "outputs": [
    {
     "name": "stdout",
     "output_type": "stream",
     "text": [
      "The average speed of this trip is: 92.85714285714286 KPH.\n"
     ]
    }
   ],
   "source": [
    "# Substituting/formatting the variables\n",
    "lenth = 520\n",
    "hour = 5.6\n",
    "speed = lenth / hour\n",
    "\n",
    "message = f\"The average speed of this trip is: {speed} KPH.\"\n",
    "print(message)"
   ]
  },
  {
   "cell_type": "code",
   "execution_count": 31,
   "id": "23c7a715-c969-432f-a89a-bc35aa3a7aa4",
   "metadata": {},
   "outputs": [
    {
     "name": "stdout",
     "output_type": "stream",
     "text": [
      "The average speed of this trip is: 92.85714285714286 .\n"
     ]
    }
   ],
   "source": [
    "# The traditional way of doing this\n",
    "print(\"The average speed of this trip is:\", speed, \".\")"
   ]
  },
  {
   "cell_type": "code",
   "execution_count": 32,
   "id": "726b4686-f907-4f5f-bef0-1f357d8dde84",
   "metadata": {},
   "outputs": [
    {
     "name": "stdout",
     "output_type": "stream",
     "text": [
      "The marriage status of Calvin is: True.\n"
     ]
    }
   ],
   "source": [
    "# more about F-string\n",
    "print(f\"The marriage status of Calvin is: {married}.\")"
   ]
  },
  {
   "cell_type": "code",
   "execution_count": 33,
   "id": "3504af4c-d0ba-445d-addd-8f045bdcb09b",
   "metadata": {},
   "outputs": [],
   "source": [
    "# Variable naming conventions\n",
    "# bad example\n",
    "mpg = 24\n",
    "# better example\n",
    "miles_per_gallon = 24\n",
    "\n"
   ]
  },
  {
   "cell_type": "code",
   "execution_count": 42,
   "id": "6dd2dca9-2d9b-4045-8e1a-176e45812d35",
   "metadata": {},
   "outputs": [
    {
     "name": "stdout",
     "output_type": "stream",
     "text": [
      "No worries, This is the auto-pilot mode.\n",
      "\n",
      "Now I am good to go\n"
     ]
    }
   ],
   "source": [
    "# Conditional statements\n",
    "\n",
    "# Declaration and Assignment of the variable\n",
    "driverless_car = True\n",
    "\n",
    "# Conditional statement of displaying\n",
    "if driverless_car:\n",
    "    # Do something\n",
    "    print(\"No worries, This is the auto-pilot mode.\")\n",
    "    print(\"\")\n",
    "    print(\"Now I am good to go\")\n",
    "    \n",
    "else:\n",
    "    # Do something else\n",
    "    print(\"You need to put your hands on the wheel, and watch the road\")\n",
    "    "
   ]
  },
  {
   "cell_type": "code",
   "execution_count": 57,
   "id": "aaca3df4-4707-41b5-b2b5-fa56eaf2577b",
   "metadata": {},
   "outputs": [
    {
     "name": "stdout",
     "output_type": "stream",
     "text": [
      "x is equal to one\n",
      "The production of x and y is equal to 4.\n"
     ]
    }
   ],
   "source": [
    "# Another conditional example\n",
    "x = 1\n",
    "y = 4\n",
    "\n",
    "if x == 1:\n",
    "    print(\"x is equal to one\")\n",
    "    if y == 2:\n",
    "        print(f\"The addition of x and y is equal to {x+y}.\")\n",
    "    elif y == 4:\n",
    "        print(f\"The production of x and y is equal to {x*y}.\")\n",
    "\n",
    "else:\n",
    "    print(\"x is NOT equal to one\")"
   ]
  },
  {
   "cell_type": "code",
   "execution_count": 63,
   "id": "b1098fe6-187d-461e-a673-104d079b61a6",
   "metadata": {},
   "outputs": [
    {
     "name": "stdout",
     "output_type": "stream",
     "text": [
      "3\n",
      "Question 2 works!\n"
     ]
    }
   ],
   "source": [
    "# 2.\n",
    "x = 5\n",
    "y = 10\n",
    "if len(\"Dog\") < x:\n",
    "    print(len(\"Dog\"))\n",
    "    print(\"Question 2 works!\")\n",
    "else:\n",
    "    print(\"Still missing out\")"
   ]
  },
  {
   "cell_type": "code",
   "execution_count": null,
   "id": "64ecbcfb-02b0-41d6-b4c8-a1ce501e193d",
   "metadata": {},
   "outputs": [],
   "source": []
  },
  {
   "cell_type": "code",
   "execution_count": null,
   "id": "1dd20d6f-a1e3-4aa5-816d-bdb2f1bc11fa",
   "metadata": {},
   "outputs": [],
   "source": []
  }
 ],
 "metadata": {
  "kernelspec": {
   "display_name": "Python 3",
   "language": "python",
   "name": "python3"
  },
  "language_info": {
   "codemirror_mode": {
    "name": "ipython",
    "version": 3
   },
   "file_extension": ".py",
   "mimetype": "text/x-python",
   "name": "python",
   "nbconvert_exporter": "python",
   "pygments_lexer": "ipython3",
   "version": "3.6.8"
  }
 },
 "nbformat": 4,
 "nbformat_minor": 5
}
