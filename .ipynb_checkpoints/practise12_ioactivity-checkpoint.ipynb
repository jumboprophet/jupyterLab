{
 "cells": [
  {
   "cell_type": "code",
   "execution_count": 7,
   "id": "32f0ed5f-6200-4aa5-9a37-2ef2c2a84680",
   "metadata": {},
   "outputs": [
    {
     "name": "stdout",
     "output_type": "stream",
     "text": [
      "/Users/Jumboprophet/jupyterLab\n",
      "The total customer number is 4945, and the total day number is 100.\n",
      "The average of customer number everyday is 49.45.\n"
     ]
    },
    {
     "ename": "TypeError",
     "evalue": "write() argument must be str, not float",
     "output_type": "error",
     "traceback": [
      "\u001b[0;31m---------------------------------------------------------------------------\u001b[0m",
      "\u001b[0;31mTypeError\u001b[0m                                 Traceback (most recent call last)",
      "\u001b[0;32m<ipython-input-7-082644853a7c>\u001b[0m in \u001b[0;36m<module>\u001b[0;34m\u001b[0m\n\u001b[1;32m     52\u001b[0m     \u001b[0;31m# @TODO: Write daily_average to the output file, convert to string\u001b[0m\u001b[0;34m\u001b[0m\u001b[0;34m\u001b[0m\u001b[0;34m\u001b[0m\u001b[0m\n\u001b[1;32m     53\u001b[0m     \u001b[0mfile_object\u001b[0m\u001b[0;34m.\u001b[0m\u001b[0mwrite\u001b[0m\u001b[0;34m(\u001b[0m\u001b[0;34m\"This is the daily average number of customer: \"\u001b[0m\u001b[0;34m)\u001b[0m\u001b[0;34m\u001b[0m\u001b[0;34m\u001b[0m\u001b[0m\n\u001b[0;32m---> 54\u001b[0;31m     \u001b[0mfile_object\u001b[0m\u001b[0;34m.\u001b[0m\u001b[0mwrite\u001b[0m\u001b[0;34m(\u001b[0m\u001b[0mcustomer_average\u001b[0m\u001b[0;34m)\u001b[0m\u001b[0;34m\u001b[0m\u001b[0;34m\u001b[0m\u001b[0m\n\u001b[0m",
      "\u001b[0;31mTypeError\u001b[0m: write() argument must be str, not float"
     ]
    }
   ],
   "source": [
    "# -*- coding: utf-8 -*-\n",
    "\"\"\"Student Do: E-Commerce Traffic.\n",
    "\n",
    "This script will parse through a text file and sum the total\n",
    "number of customers and the count of days in the text file to\n",
    "calculate the daily average of customer traffic for an e-commerce\n",
    "business.\n",
    "\"\"\"\n",
    "\n",
    "# @TODO: From the pathlib library, import the main class Path\n",
    "from pathlib import Path as pa\n",
    "\n",
    "# @TODO: Check the current directory where the Python program is executing from\n",
    "print(pa.cwd())\n",
    "\n",
    "# @TODO: Set the path using Pathlib\n",
    "file = pa('./08activity/customer_traffic.txt')\n",
    "\n",
    "# Initialize variables\n",
    "customer_total = 0\n",
    "day_count = 0\n",
    "\n",
    "# @TODO: Open the file in \"read\" mode ('r') and store the contents in the variable 'file'\n",
    "with open(file, 'r') as file_object:\n",
    "    \n",
    "    # @TODO: Parse the file line by line\n",
    "    for line in file_object:\n",
    "\n",
    "        # @TODO: Convert the number in the text file from string to int (allows for numerical calculations)\n",
    "        number = int(line)\n",
    "\n",
    "        # @TODO: Sum the total and count of the numbers in the text file\n",
    "        customer_total += number\n",
    "        day_count += 1\n",
    "\n",
    "\n",
    "# @TODO: Print out customer_total and day_count\n",
    "print(f\"The total customer number is {customer_total}, and the total day number is {day_count}.\")\n",
    "\n",
    "\n",
    "\n",
    "# @TODO: Calculate the average\n",
    "customer_average = customer_total / day_count\n",
    "print(f\"The average of customer number everyday is {customer_average}.\")\n",
    "\n",
    "\n",
    "# @TODO: Set output file name\n",
    "output_file = pa('./08activity/output_file.txt')\n",
    "\n",
    "# @TODO: Open the output path as a file object\n",
    "with open('./08activity/output_file.txt', 'w') as file_object:\n",
    "    # @TODO: Write daily_average to the output file, convert to string\n",
    "    file_object.write(\"This is the daily average number of customer: \")\n",
    "    file_object.write(str(customer_average))"
   ]
  },
  {
   "cell_type": "code",
   "execution_count": null,
   "id": "0808c3fe-d01b-41e4-9057-48a5c81ad231",
   "metadata": {},
   "outputs": [],
   "source": []
  }
 ],
 "metadata": {
  "kernelspec": {
   "display_name": "Python 3",
   "language": "python",
   "name": "python3"
  },
  "language_info": {
   "codemirror_mode": {
    "name": "ipython",
    "version": 3
   },
   "file_extension": ".py",
   "mimetype": "text/x-python",
   "name": "python",
   "nbconvert_exporter": "python",
   "pygments_lexer": "ipython3",
   "version": "3.6.8"
  }
 },
 "nbformat": 4,
 "nbformat_minor": 5
}
