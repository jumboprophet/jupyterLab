{
 "cells": [
  {
   "cell_type": "code",
   "execution_count": 1,
   "id": "31781ab6-2ab4-4a18-a0a1-b4cc2e004c5c",
   "metadata": {},
   "outputs": [
    {
     "name": "stdout",
     "output_type": "stream",
     "text": [
      "267.94617853971704\n"
     ]
    }
   ],
   "source": [
    "import numpy_financial as npf\n",
    "\n",
    "return_rate = 0.1\n",
    "cash_flow = [-1000,400,400,400,400]\n",
    "net_present_value = npf.npv(return_rate, cash_flow)\n",
    "print(net_present_value)\n"
   ]
  },
  {
   "cell_type": "code",
   "execution_count": null,
   "id": "25a01b52-2f0c-4e11-ab40-aa47230daac8",
   "metadata": {},
   "outputs": [],
   "source": []
  },
  {
   "cell_type": "code",
   "execution_count": null,
   "id": "5579ea0f-b711-4127-9bdd-6f419646ab0a",
   "metadata": {},
   "outputs": [],
   "source": []
  }
 ],
 "metadata": {
  "kernelspec": {
   "display_name": "Python 3",
   "language": "python",
   "name": "python3"
  },
  "language_info": {
   "codemirror_mode": {
    "name": "ipython",
    "version": 3
   },
   "file_extension": ".py",
   "mimetype": "text/x-python",
   "name": "python",
   "nbconvert_exporter": "python",
   "pygments_lexer": "ipython3",
   "version": "3.6.8"
  }
 },
 "nbformat": 4,
 "nbformat_minor": 5
}
