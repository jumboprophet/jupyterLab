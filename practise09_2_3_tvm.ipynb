{
 "cells": [
  {
   "cell_type": "code",
   "execution_count": 13,
   "id": "07bea06d-6951-456f-be50-5262e76a613a",
   "metadata": {},
   "outputs": [],
   "source": [
    "# -*- coding: utf-8 -*-\n",
    "\"\"\"\n",
    "Zero-Coupon Bond Valuation.\n",
    "\n",
    "A zero-coupon bond is a debt security that does not pay interest (a coupon) as an annual cash flow; \n",
    "instead, it simply distributes a lump sum, or its face value, upon bond maturity (when the bond completes its duration). \n",
    "Zero-coupon bonds trade at a discount to their future value.\n",
    "\n",
    "This script will calculate the present value of zero-coupon bonds, compare the present value to the price of the bond, and determine the corresponding action (buy, not buy, neutral).\n",
    "\"\"\"\n",
    "\n",
    "# @TODO: Create a function to calculate present value, and round up in two decimals\n",
    "def calculate_present_value(future_value, discount_rate, compounding_periods, years):\n",
    "    bond_value = future_value/((1+(discount_rate/compounding_periods))**(compounding_periods*years))\n",
    "    bond_value_round = round(bond_vaue, 2)\n",
    "    return bond_value_round\n",
    "\n"
   ]
  },
  {
   "cell_type": "code",
   "execution_count": 9,
   "id": "251de7bb-357f-4fac-ae25-09a703d91219",
   "metadata": {},
   "outputs": [
    {
     "name": "stdout",
     "output_type": "stream",
     "text": [
      "620.92\n"
     ]
    }
   ],
   "source": [
    "# Intialize the zero-coupon bond parameters, assume compounding period is equal to 1\n",
    "price = 700\n",
    "future_value = 1000\n",
    "discount_rate = .1\n",
    "compounding_periods = 1\n",
    "years = 5\n",
    "# pv_round = 0.00\n",
    "\n",
    "# @TODO: Call the calculate_present_value() function and assign to a variable\n",
    "pv = calculate_present_value(future_value, discount_rate, compounding_periods, years)\n",
    "\n",
    "print(pv)\n",
    "\n"
   ]
  },
  {
   "cell_type": "code",
   "execution_count": 14,
   "id": "18f58283-d01a-4aef-b779-2dc0100f1bcc",
   "metadata": {},
   "outputs": [
    {
     "name": "stdout",
     "output_type": "stream",
     "text": [
      "The bond value is 620.92, not greater than the current price, therefore not worth to buy\n"
     ]
    }
   ],
   "source": [
    "# @TODO: Determine if the bond is worth it\n",
    "\n",
    "\n",
    "\n",
    "if (pv>700):\n",
    "    print(f\"The bond value is {pv}, larger than the current price, therefore worth to buy\")\n",
    "else:\n",
    "    print(f\"The bond value is {pv}, not greater than the current price, therefore not worth to buy\")"
   ]
  },
  {
   "cell_type": "code",
   "execution_count": null,
   "id": "6defb993-8b90-4ca4-b0b2-d50549363428",
   "metadata": {},
   "outputs": [],
   "source": []
  },
  {
   "cell_type": "code",
   "execution_count": null,
   "id": "e0b91b83-6308-4163-b84e-e71e9ee86cb7",
   "metadata": {},
   "outputs": [],
   "source": []
  }
 ],
 "metadata": {
  "kernelspec": {
   "display_name": "Python 3",
   "language": "python",
   "name": "python3"
  },
  "language_info": {
   "codemirror_mode": {
    "name": "ipython",
    "version": 3
   },
   "file_extension": ".py",
   "mimetype": "text/x-python",
   "name": "python",
   "nbconvert_exporter": "python",
   "pygments_lexer": "ipython3",
   "version": "3.6.8"
  }
 },
 "nbformat": 4,
 "nbformat_minor": 5
}
